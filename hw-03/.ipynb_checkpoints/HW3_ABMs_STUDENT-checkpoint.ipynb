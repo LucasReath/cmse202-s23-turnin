{
 "cells": [
  {
   "cell_type": "markdown",
   "metadata": {},
   "source": [
    "# Homework Assignment 3 (Individual)\n",
    "\n",
    "---"
   ]
  },
  {
   "cell_type": "markdown",
   "metadata": {},
   "source": [
    "### <p style=\"text-align: right;\"> &#9989; Lucas Reath.</p>"
   ]
  },
  {
   "cell_type": "markdown",
   "metadata": {},
   "source": [
    "\n",
    "---\n",
    "## Creating a natural selection model using ABMs and OOP\n",
    "\n",
    "In this homework, we have two sections.\n",
    "\n",
    "- **Part A: Git practice**\n",
    "- **Part B: ABM + OOP: Simulating animal populations -- Natural selection and adaptation**\n",
    "\n",
    "<img src=\"https://raw.githubusercontent.com/huichiayu/cmse_202_802/main/IMGs/rock_mice.jpg\" border=\"0\" align=\"center\" width=\"600\">\n",
    "image found online.\n",
    "\n",
    "\n",
    "### Goal for this homework assignment\n",
    "By now, you have learned ABM and OOP through the assignments of assembling Zoo and Superbugs. Let's use those skills to build a simple fun model of natural selection. \n",
    "\n",
    "**This assignment is due roughly two weeks from now at 11:59 pm on Friday, March 31.** It should be uploaded into the \"Homework Assignments\" submission folder for Homework #3, as well as GitHub turn-in repo.  Submission instructions can be found at the end of the notebook. **The distribution of points can be found in the section headers**.\n"
   ]
  },
  {
   "cell_type": "markdown",
   "metadata": {},
   "source": [
    "---\n",
    "## Part 0: Upload this file to your Git repository to track your progress on your assignment (15 pt)\n",
    "\n",
    "#### Note: This is different from previous assignments!\n",
    "\n",
    "You will add this homework assignment to your GutHub repository you created for previous homework so that you can track your progress on the assignment and preserve the final version that you turn in. We also want you to get practice with **branching**, as that will be important and useful for your group projects. \n",
    "\n",
    "**&#9989; Do the following**:\n",
    "\n",
    "\n",
    "1. Navigate to your `cmse202-s23-turnin` repository \n",
    "2. Create a new branch called `hw03_branch` and move into it. \n",
    "3. Create a new directory called `hw-03`.\n",
    "4. Move this notebook into that **new directory**, then **add** and **commit** it. \n",
    "5. Finally, to test that everything is working, `git push` the file and new branch so they end up in your GitHub repository. \n",
    "\n",
    "**Important**: Make sure to add your Professor and TA as collaborators of this respository with \"Read\" access so that we can see your assignment (you should have done this in the previous homework assignment)\n",
    "\n",
    "**Also**: Make sure that the version of this notebook that you are working on is the same one that you just added to your repository! If you are working on a different copy of the noteobok, **none of your changes will be tracked**!\n",
    "\n",
    "If everything went as intended, the file should now show up on your GitHub account in the `cmse202-s23-turnin` repository inside the `hw-03` directory and `hw-03` branch that you just created.  Periodically, **you'll be asked to commit your changes and push them to the remote GitHub location**. Of course, you can always commit your changes more often than that, if you wish.  It will be good to develop a habit of committing your changes any time you make a significant modification, or when you stop working on the project for a bit.\n",
    "\n"
   ]
  },
  {
   "cell_type": "markdown",
   "metadata": {},
   "source": [
    "---\n",
    "\n",
    "# A natural selection model\n",
    "For this homework assignment, you will be building an Agent-Based Model (ABM) that simulates natural selection in action. You will build two classes for mice, which inhabit the world, and one class for a (predator) hawk. The mice have different fur color, which allows them to blend in better (or worse) with their environment. This model is (loosely) based on an actual case of natural selection involving the [Peppered Moth](https://en.wikipedia.org/wiki/Peppered_moth_evolution).\n",
    "\n",
    "For this assignment, you will be working with an environment class, which will allow you to actually run your simulation. We've also provided you with a generic `Animal_Agent`, which you will use to build your own classes for the natural selection model. You will need to download the generic `Animal_Agent` class and `Environment` class. You can find them here:\n",
    "\n",
    "- `https://raw.githubusercontent.com/msu-cmse-courses/cmse202-S23-data/main/HW/HW3/Animal_Agent_Class.py`\n",
    "- `https://raw.githubusercontent.com/msu-cmse-courses/cmse202-S23-data/main/HW/HW3/Environment.py`"
   ]
  },
  {
   "cell_type": "markdown",
   "metadata": {},
   "source": [
    "## 1. Building Up an Environment with Animal Agents\n",
    "\n",
    "\n",
    "\n",
    "### 1.1 (5 Points)\n",
    "\n",
    "Spend some time exploring the new classes a bit. **Write a few sentences giving a high-level description of how this model works. What are the different classes? What do they do? How can they be used to create an Agent-Based Model?**\n"
   ]
  },
  {
   "cell_type": "markdown",
   "metadata": {},
   "source": [
    "- Environment: Manages the simulation, including the agents' interactions and their environment.\n",
    "- Animal_Agent: Represents a generic animal in the simulation, with common properties and behaviors.\n",
    "- Mice and Hawk: Specific classes for mice and hawks, derived from Animal_Agent, with unique characteristics and behaviors.\n",
    "\n",
    "To create the ABM:\n",
    "\n",
    "- Set up the Environment with initial parameters.\n",
    "- Create specific classes for mice and hawks.\n",
    "- Add agents to the Environment.\n",
    "- Run the simulation, observing natural selection in action as better-adapted agents survive and reproduce."
   ]
  },
  {
   "cell_type": "markdown",
   "metadata": {},
   "source": [
    "### 1.2 (15 Points)\n",
    "\n",
    "Construct a new `Environment` object and a new `Animal_Agent` object. Specify that the `Animal_Agent` object is a female. Add the `Animal_Agent` object to the `Environment` object. Run the `simulation` method. You should see there's a bug in the code. **Fix the bug and explain what the cause was.**"
   ]
  },
  {
   "cell_type": "code",
   "execution_count": 1,
   "metadata": {},
   "outputs": [
    {
     "ename": "TypeError",
     "evalue": "unsupported operand type(s) for -: 'list' and 'int'",
     "output_type": "error",
     "traceback": [
      "\u001b[0;31m---------------------------------------------------------------------------\u001b[0m",
      "\u001b[0;31mTypeError\u001b[0m                                 Traceback (most recent call last)",
      "Input \u001b[0;32mIn [1]\u001b[0m, in \u001b[0;36m<cell line: 8>\u001b[0;34m()\u001b[0m\n\u001b[1;32m      6\u001b[0m animal \u001b[38;5;241m=\u001b[39m Animal_Agent(sex\u001b[38;5;241m=\u001b[39m\u001b[38;5;124m\"\u001b[39m\u001b[38;5;124mF\u001b[39m\u001b[38;5;124m\"\u001b[39m)\n\u001b[1;32m      7\u001b[0m world\u001b[38;5;241m.\u001b[39madd_agent(animal)\n\u001b[0;32m----> 8\u001b[0m \u001b[43mworld\u001b[49m\u001b[38;5;241;43m.\u001b[39;49m\u001b[43msimulate\u001b[49m\u001b[43m(\u001b[49m\u001b[38;5;241;43m10\u001b[39;49m\u001b[43m)\u001b[49m\n",
      "File \u001b[0;32m~/Documents/SCHOOL/Spring 2023/CMSE 202/cmse202-s23-turnin/hw-03/Environment.py:50\u001b[0m, in \u001b[0;36mEnvironment.simulate\u001b[0;34m(self, tot_time)\u001b[0m\n\u001b[1;32m     48\u001b[0m \u001b[38;5;28;01melse\u001b[39;00m:\n\u001b[1;32m     49\u001b[0m     temp_agents\u001b[38;5;241m.\u001b[39mappend(agent)\n\u001b[0;32m---> 50\u001b[0m     temp_new_agents \u001b[38;5;241m=\u001b[39m \u001b[43magent\u001b[49m\u001b[38;5;241;43m.\u001b[39;49m\u001b[43mprocreate\u001b[49m\u001b[43m(\u001b[49m\u001b[43mdt\u001b[49m\u001b[43m,\u001b[49m\u001b[43m \u001b[49m\u001b[38;5;28;43mself\u001b[39;49m\u001b[38;5;241;43m.\u001b[39;49m\u001b[43manimal_agents\u001b[49m\u001b[43m)\u001b[49m \n\u001b[1;32m     51\u001b[0m     \u001b[38;5;28;01mif\u001b[39;00m \u001b[38;5;28mlen\u001b[39m(temp_new_agents) \u001b[38;5;241m>\u001b[39m \u001b[38;5;241m0\u001b[39m:\n\u001b[1;32m     52\u001b[0m         temp_agents\u001b[38;5;241m.\u001b[39mextend(temp_new_agents)\n",
      "File \u001b[0;32m~/Documents/SCHOOL/Spring 2023/CMSE 202/cmse202-s23-turnin/hw-03/Animal_Agent_Class.py:151\u001b[0m, in \u001b[0;36mAnimal_Agent.procreate\u001b[0;34m(self, all_agents, time)\u001b[0m\n\u001b[1;32m    149\u001b[0m child_list \u001b[38;5;241m=\u001b[39m []\n\u001b[1;32m    150\u001b[0m val \u001b[38;5;241m=\u001b[39m random\u001b[38;5;241m.\u001b[39mrandom()\n\u001b[0;32m--> 151\u001b[0m \u001b[38;5;28;01mif\u001b[39;00m (\u001b[38;5;28mself\u001b[39m\u001b[38;5;241m.\u001b[39msex \u001b[38;5;241m==\u001b[39m \u001b[38;5;124m'\u001b[39m\u001b[38;5;124mF\u001b[39m\u001b[38;5;124m'\u001b[39m) \u001b[38;5;129;01mand\u001b[39;00m (np\u001b[38;5;241m.\u001b[39mmod(\u001b[38;5;28mabs\u001b[39m(\u001b[43mtime\u001b[49m\u001b[38;5;241;43m-\u001b[39;49m\u001b[38;5;28;43mself\u001b[39;49m\u001b[38;5;241;43m.\u001b[39;49m\u001b[43mlast_litter_time\u001b[49m),\u001b[38;5;28mself\u001b[39m\u001b[38;5;241m.\u001b[39mgestation) \u001b[38;5;241m==\u001b[39m \u001b[38;5;241m0\u001b[39m):\n\u001b[1;32m    152\u001b[0m     \u001b[38;5;28;01mfor\u001b[39;00m agent \u001b[38;5;129;01min\u001b[39;00m all_agents:\n\u001b[1;32m    153\u001b[0m         \u001b[38;5;28;01mif\u001b[39;00m (agent\u001b[38;5;241m.\u001b[39mptype\u001b[38;5;241m==\u001b[39m\u001b[38;5;124m\"\u001b[39m\u001b[38;5;124mPrey\u001b[39m\u001b[38;5;124m\"\u001b[39m) \u001b[38;5;129;01mand\u001b[39;00m (agent\u001b[38;5;241m.\u001b[39msex \u001b[38;5;241m==\u001b[39m \u001b[38;5;124m\"\u001b[39m\u001b[38;5;124mM\u001b[39m\u001b[38;5;124m\"\u001b[39m) \u001b[38;5;129;01mand\u001b[39;00m (\u001b[38;5;28mself\u001b[39m\u001b[38;5;241m.\u001b[39mget_distance(agent) \u001b[38;5;241m<\u001b[39m\u001b[38;5;241m=\u001b[39m \u001b[38;5;28mself\u001b[39m\u001b[38;5;241m.\u001b[39mmate_range) \u001b[38;5;129;01mand\u001b[39;00m (val \u001b[38;5;241m>\u001b[39m (\u001b[38;5;241m1.0\u001b[39m\u001b[38;5;241m/\u001b[39m(\u001b[38;5;241m1.0\u001b[39m\u001b[38;5;241m+\u001b[39mnp\u001b[38;5;241m.\u001b[39mexp(\u001b[38;5;241m-\u001b[39m\u001b[38;5;28mlen\u001b[39m(all_agents)\u001b[38;5;241m/\u001b[39m\u001b[38;5;28mself\u001b[39m\u001b[38;5;241m.\u001b[39msaturation_pop)))):\n",
      "\u001b[0;31mTypeError\u001b[0m: unsupported operand type(s) for -: 'list' and 'int'"
     ]
    },
    {
     "data": {
      "image/png": "[encoded data removed]",
      "text/plain": [
       "<Figure size 432x432 with 1 Axes>"
      ]
     },
     "metadata": {
      "needs_background": "light"
     },
     "output_type": "display_data"
    }
   ],
   "source": [
    "#Write your code here\n",
    "from Environment import Environment\n",
    "from Animal_Agent_Class import Animal_Agent\n",
    "\n",
    "world = Environment()\n",
    "animal = Animal_Agent(sex=\"F\")\n",
    "world.add_agent(animal)\n",
    "world.simulate(10)"
   ]
  },
  {
   "cell_type": "markdown",
   "metadata": {},
   "source": [
    "*The procreate function: procreate(self,all_agents,time) needs all the agents first and then the time. This is not the case and a change is needed from this:\n",
    "temp_new_agents = agent.procreate(dt, self.animal_agents)\n",
    "To this:\n",
    "temp_new_agents = agent.procreate(self.animal_agents, dt)*"
   ]
  },
  {
   "cell_type": "markdown",
   "metadata": {},
   "source": [
    "### 1.3 (5 Points)\n",
    "\n",
    "**In the cell below, copy your `simulation` code from above and rerun it with the bug fixed to show how the animal runs around.** You should use the `set_allele()` method in the `Animal_Agent` class to randomly assign two alleles to your `Animal_Agent` object.\n"
   ]
  },
  {
   "cell_type": "code",
   "execution_count": 6,
   "metadata": {},
   "outputs": [
    {
     "data": {
      "image/png": "[encoded data removed]",
      "text/plain": [
       "<Figure size 432x432 with 1 Axes>"
      ]
     },
     "metadata": {
      "needs_background": "light"
     },
     "output_type": "display_data"
    }
   ],
   "source": [
    "from Environment import Environment\n",
    "from Animal_Agent_Class import Animal_Agent\n",
    "import random\n",
    "\n",
    "world = Environment()\n",
    "\n",
    "animal = Animal_Agent(sex='F')\n",
    "\n",
    "allele_1 = random.choice([0, 1])\n",
    "allele_2 = random.choice([0, 1])\n",
    "animal.set_allele(allele_1, allele_2)\n",
    "\n",
    "world.add_agent(animal)\n",
    "world.simulate(10)"
   ]
  },
  {
   "cell_type": "markdown",
   "metadata": {},
   "source": [
    "### 1.4 (5 Points)\n",
    "\n",
    "**Now add in a predator and let it evolve. Do you see the predator hunting the prey object?** Make sure to set the `ptype` to predator, and the `shape` and `color` to be something different from the prey you defined above (E.g., a shape of \"P\" and a color of \"red\".)"
   ]
  },
  {
   "cell_type": "code",
   "execution_count": 9,
   "metadata": {},
   "outputs": [
    {
     "data": {
      "image/png": "[encoded data removed]",
      "text/plain": [
       "<Figure size 432x432 with 1 Axes>"
      ]
     },
     "metadata": {
      "needs_background": "light"
     },
     "output_type": "display_data"
    }
   ],
   "source": [
    "#Write your code here\n",
    "from Environment import Environment\n",
    "from Animal_Agent_Class import Animal_Agent\n",
    "import random\n",
    "\n",
    "world = Environment()\n",
    "\n",
    "animal = Animal_Agent(sex='F')\n",
    "allele_1 = random.choice([0, 1])\n",
    "allele_2 = random.choice([0, 1])\n",
    "animal.set_allele(allele_1, allele_2)\n",
    "\n",
    "predator = Animal_Agent(sex='M', ptype='Predator', shape='P', color='red')\n",
    "\n",
    "world.add_agent(animal)\n",
    "world.add_agent(predator)\n",
    "\n",
    "world.simulate(100)"
   ]
  },
  {
   "cell_type": "markdown",
   "metadata": {},
   "source": [
    "### 1.5 (15 Points)\n",
    "\n",
    "**Now add *multiple* predator and prey agents ($N > 1$ for both). Find a combination of $N_{\\mathrm{Prey}}$ and $N_{\\mathrm{Predator}}$ where the Prey can maintain a sustainable population (I.e., they aren't wiped out in the long run).**\n",
    "\n",
    "- **NOTE 1:** Make sure you add both male and female Prey, so they can `Procreate`. \n",
    "- **NOTE 2:** We recommend using the `simulate_plot_populations()` method, so you can monitor the growth/decline of populations."
   ]
  },
  {
   "cell_type": "code",
   "execution_count": 11,
   "metadata": {},
   "outputs": [
    {
     "data": {
      "image/png": "[encoded data removed]",
      "text/plain": [
       "<Figure size 432x288 with 1 Axes>"
      ]
     },
     "metadata": {
      "needs_background": "light"
     },
     "output_type": "display_data"
    }
   ],
   "source": [
    "#Write your code here\n",
    "from Environment import Environment\n",
    "from Animal_Agent_Class import Animal_Agent\n",
    "import random\n",
    "\n",
    "world = Environment()\n",
    "\n",
    "N_prey = 47\n",
    "N_predator = 3 \n",
    "\n",
    "for _ in range(N_prey):\n",
    "    sex = random.choice(['M', 'F'])\n",
    "    allele_1 = random.choice([0, 1])\n",
    "    allele_2 = random.choice([0, 1])\n",
    "    prey = Animal_Agent(sex=sex, ptype='Prey')\n",
    "    prey.set_allele(allele_1, allele_2)\n",
    "    world.add_agent(prey)\n",
    "\n",
    "for _ in range(N_predator):\n",
    "    sex = random.choice(['M', 'F'])\n",
    "    predator = Animal_Agent(sex=sex, ptype='Predator', shape='P', color='red')\n",
    "    world.add_agent(predator)\n",
    "\n",
    "world.simulate_plot_populations(100)"
   ]
  },
  {
   "cell_type": "markdown",
   "metadata": {},
   "source": [
    "### 1.6 (5 Points)\n",
    "\n",
    "**How does the population evolve over time? (I.e., is it linear? Periodic? etc.) What causes this shape? How does the population of light brown and dark brown prey differ (if at all)?**"
   ]
  },
  {
   "cell_type": "markdown",
   "metadata": {},
   "source": [
    "*The populations are not linear and appear periodic as there are consistent peaks and valleys. The light brown population (blue) appears significantly higher in population than the dark brown.*"
   ]
  },
  {
   "cell_type": "markdown",
   "metadata": {},
   "source": [
    "## 2. Refining the Model\n",
    "\n",
    "For this part, we're going to use our generic `Animal_Agent`class to construct child classes that represent *specific* animal species for both our predator and prey animals. Specifically, we'll be making a `Mouse` child class for the prey and a `Hawk` child class for the predator. **We'll use these new child classes to run our natural selection model.**\n",
    "\n",
    "### 2.1 (15 Points)\n",
    "\n",
    "Create a new `Mouse` child class, using the `Animal_Agent` as the parent class. The `Mouse` class will largely be the same as the `Animal_Agent` class except for two details: \n",
    "\n",
    "1. **In the `set_allele` method, add a new class attribute called `catch_probability`. For the light-brown mice, set `catch_probability` to 0.95. For dark brown mice, set the `catch_probability` to 0.05.**\n",
    "2. **Change the `Procreate` method so that they create new `Mouse` animal objects.**\n",
    "\n"
   ]
  },
  {
   "cell_type": "code",
   "execution_count": 40,
   "metadata": {},
   "outputs": [],
   "source": [
    "#Write your code here\n",
    "from Animal_Agent_Class import Animal_Agent\n",
    "\n",
    "class Mouse(Animal_Agent):\n",
    "    def __init__(self, *args, **kwargs):\n",
    "        super().__init__(*args, **kwargs)\n",
    "        self.ptype = 'Prey'\n",
    "\n",
    "    def set_allele(self, allele1, allele2):\n",
    "        self.allele = [allele1, allele2]  \n",
    "        if self.allele == [0, 0]:\n",
    "            self.catch_probability = 0.95\n",
    "            self.color = 'goldenrod'  \n",
    "        elif self.allele == [1, 1]:\n",
    "            self.catch_probability = 0.05\n",
    "            self.color = 'saddlebrown'  \n",
    "        else:\n",
    "            self.catch_probability = 0.5\n",
    "            self.color = 'goldenrod'\n",
    "\n",
    "    def procreate(self, all_agents, time):\n",
    "        child_list = []\n",
    "        if random.random() < 0.05:\n",
    "            for _ in range(round(np.random.normal(2, 1))):\n",
    "                child = Mouse(sex=random.choice(['M', 'F']), ptype='Prey')\n",
    "                allele_d = self.allele[random.randint(0, 1)]\n",
    "                allele_m = self.allele[random.randint(0, 1)]\n",
    "                child.set_allele(allele_d, allele_m)\n",
    "                child_list.append(child)\n",
    "        return child_list\n"
   ]
  },
  {
   "cell_type": "markdown",
   "metadata": {},
   "source": [
    "### 2.2 (10 Points)\n",
    "\n",
    "Create a new `Hawk` child class, using the `Animal_Agent` as the parent class. The `Hawk` class will largely be the same as the `Animal_Agent` class except for one detail: **In the `hunt` method, incorporate the `catch_probability` of the predator, such that it is harder for a `Hawk` to catch a `Mouse` with a lower `catch_probability`.**"
   ]
  },
  {
   "cell_type": "code",
   "execution_count": 2,
   "metadata": {},
   "outputs": [],
   "source": [
    "#Write your code here\n",
    "from Animal_Agent_Class import Animal_Agent\n",
    "\n",
    "class Hawk(Animal_Agent):\n",
    "    def __init__(self, *args, **kwargs):\n",
    "        super().__init__(*args, **kwargs)\n",
    "        self.ptype = 'Predator'\n",
    "        self.shape = 'P'\n",
    "        self.color = 'red'\n",
    "\n",
    "    def hunt(self, all_agents):\n",
    "        prey_list = [a for a in all_agents if a.ptype == 'Prey']\n",
    "        if len(prey_list) == 0:\n",
    "            return []\n",
    "        else:\n",
    "            num_prey_to_hunt = random.randint(1, 3)  # Define the number of prey to hunt at once\n",
    "            prey_indices = []\n",
    "            for _ in range(num_prey_to_hunt):\n",
    "                prey = min(prey_list, key=lambda p: p.catch_probability)\n",
    "                if random.random() < prey.catch_probability * 5:\n",
    "                    prey_indices.append(all_agents.index(prey))\n",
    "                    prey_list.remove(prey)\n",
    "            return prey_indices\n"
   ]
  },
  {
   "cell_type": "markdown",
   "metadata": {},
   "source": [
    "### 2.3 (5 Points)\n",
    "\n",
    "**Repeat problem 1.5, replacing the generic prey with the `Mice` animals, and the generic predators with the `Hawk` animals.**"
   ]
  },
  {
   "cell_type": "code",
   "execution_count": 54,
   "metadata": {
    "scrolled": false
   },
   "outputs": [
    {
     "data": {
      "image/png": "[encoded data removed]",
      "text/plain": [
       "<Figure size 432x288 with 1 Axes>"
      ]
     },
     "metadata": {
      "needs_background": "light"
     },
     "output_type": "display_data"
    }
   ],
   "source": [
    "from Environment import Environment\n",
    "import random\n",
    "import numpy as np\n",
    "\n",
    "world = Environment()\n",
    "\n",
    "N_prey = 37\n",
    "N_predator = 3\n",
    "\n",
    "for _ in range(N_prey):\n",
    "    sex = random.choice(['M', 'F'])\n",
    "    allele_1 = random.choice([0, 1])\n",
    "    allele_2 = random.choice([0, 1])\n",
    "    prey = Mouse(sex=sex)\n",
    "    prey.set_allele(allele_1, allele_2)\n",
    "    world.add_agent(prey)\n",
    "\n",
    "for _ in range(N_predator):\n",
    "    sex = random.choice(['M', 'F'])\n",
    "    predator = Hawk(sex=sex)\n",
    "    world.add_agent(predator)\n",
    "\n",
    "world.simulate_plot_populations(50)\n",
    "\n"
   ]
  },
  {
   "cell_type": "markdown",
   "metadata": {},
   "source": [
    "### 2.4 (5 Points)\n",
    "\n",
    "**Describe the differences between your results using the `Hawk` and `Mouse` class and the results from part 1.5. If and how does this model capture the effects of natural selection?**"
   ]
  },
  {
   "cell_type": "markdown",
   "metadata": {},
   "source": [
    "*It was more challenging to use the Mouse and Hawk classes in this model, trying to adjust procreation rates and predator efficiency was tough. You can also see this plot is much more smooth and exponential. As before the light brown survived more effectively than the darker colored and ended the simulation with twice as large population.*"
   ]
  },
  {
   "cell_type": "markdown",
   "metadata": {},
   "source": [
    "---\n",
    "### &#128721; STOP\n",
    "**Pause to commit your changes and push to your Git repository!**\n",
    "\n",
    "## Git push, and then merge your `hw03_branch` into your `main` branch."
   ]
  },
  {
   "cell_type": "markdown",
   "metadata": {},
   "source": []
  }
 ],
 "metadata": {
  "kernelspec": {
   "display_name": "Python 3 (ipykernel)",
   "language": "python",
   "name": "python3"
  },
  "language_info": {
   "codemirror_mode": {
    "name": "ipython",
    "version": 3
   },
   "file_extension": ".py",
   "mimetype": "text/x-python",
   "name": "python",
   "nbconvert_exporter": "python",
   "pygments_lexer": "ipython3",
   "version": "3.9.12"
  }
 },
 "nbformat": 4,
 "nbformat_minor": 2
}
